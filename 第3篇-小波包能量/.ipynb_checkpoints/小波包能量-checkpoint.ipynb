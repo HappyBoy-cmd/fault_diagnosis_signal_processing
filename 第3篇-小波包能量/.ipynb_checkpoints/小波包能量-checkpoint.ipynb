{
 "cells": [
  {
   "cell_type": "code",
   "execution_count": 1,
   "id": "703c82bd",
   "metadata": {},
   "outputs": [],
   "source": [
    "import scipy.io as scio  #导入scio包"
   ]
  },
  {
   "cell_type": "markdown",
   "id": "301e58c2",
   "metadata": {},
   "source": [
    "## 加载读取数据"
   ]
  },
  {
   "cell_type": "markdown",
   "id": "e9395648",
   "metadata": {},
   "source": [
    "外圈数据"
   ]
  },
  {
   "cell_type": "code",
   "execution_count": 5,
   "id": "23508ab8",
   "metadata": {},
   "outputs": [],
   "source": [
    "def DataAcquision(file_Path):\n",
    "    data = scio.loadmat(file_path)  # 加载mat数据\n",
    "    data_key_list = list(data.keys())  # mat文件为字典类型，获取字典所有的键并转换为list类型\n",
    "    accl_key = data_key_list[3]  # 获取'X108_DE_time'\n",
    "    accl_data = data[accl_key].flatten()  # 获取'X108_DE_time'所对应的值，即为振动加速度信号,并将二维数组展成一维数组\n",
    "    return accl_data"
   ]
  },
  {
   "cell_type": "code",
   "execution_count": 6,
   "id": "9da5f4b0",
   "metadata": {},
   "outputs": [
    {
     "name": "stdout",
     "output_type": "stream",
     "text": [
      "[ 0.22269856  0.09323776 -0.14651649 ... -0.36125573  0.31138814\n",
      "  0.17055689]\n"
     ]
    }
   ],
   "source": [
    "file_path = r'E:/研究生/pytorch/CSDN代码/第3篇-小波包能量/1730_12k_0.007-InnerRace.mat'  #文件夹路径\n",
    "data = DataAcquision(file_path)  # 加载mat数据\n",
    "print(data)"
   ]
  },
  {
   "cell_type": "code",
   "execution_count": null,
   "id": "e632cafa",
   "metadata": {},
   "outputs": [],
   "source": []
  }
 ],
 "metadata": {
  "kernelspec": {
   "display_name": "Python 3 (ipykernel)",
   "language": "python",
   "name": "python3"
  },
  "language_info": {
   "codemirror_mode": {
    "name": "ipython",
    "version": 3
   },
   "file_extension": ".py",
   "mimetype": "text/x-python",
   "name": "python",
   "nbconvert_exporter": "python",
   "pygments_lexer": "ipython3",
   "version": "3.8.5"
  },
  "toc": {
   "base_numbering": 1,
   "nav_menu": {},
   "number_sections": true,
   "sideBar": true,
   "skip_h1_title": false,
   "title_cell": "Table of Contents",
   "title_sidebar": "Contents",
   "toc_cell": false,
   "toc_position": {},
   "toc_section_display": true,
   "toc_window_display": false
  }
 },
 "nbformat": 4,
 "nbformat_minor": 5
}
