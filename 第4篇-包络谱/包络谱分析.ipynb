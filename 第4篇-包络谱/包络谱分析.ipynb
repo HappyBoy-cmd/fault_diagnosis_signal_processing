{
 "cells": [
  {
   "cell_type": "code",
   "execution_count": 2,
   "id": "292f4610",
   "metadata": {},
   "outputs": [],
   "source": [
    "import scipy.io as scio\n",
    "import numpy as np\n",
    "import matplotlib.pyplot as plt\n",
    "from scipy import signal, fftpack, stats"
   ]
  },
  {
   "cell_type": "code",
   "execution_count": 104,
   "id": "adf068a9",
   "metadata": {},
   "outputs": [],
   "source": [
    "from matplotlib import rcParams\n",
    "\n",
    "config = {\n",
    "    \"font.family\": 'serif', # 衬线字体\n",
    "    \"font.size\": 10, # 相当于小四大小\n",
    "    \"font.serif\": ['SimSun'], # 宋体\n",
    "    \"mathtext.fontset\": 'stix', # matplotlib渲染数学字体时使用的字体，和Times New Roman差别不大\n",
    "    'axes.unicode_minus': False # 处理负号，即-号\n",
    "}\n",
    "rcParams.update(config)"
   ]
  },
  {
   "cell_type": "markdown",
   "id": "829ef1b7",
   "metadata": {},
   "source": [
    "## 加载CWRU内圈故障数据"
   ]
  },
  {
   "cell_type": "code",
   "execution_count": 80,
   "id": "1a411ada",
   "metadata": {},
   "outputs": [],
   "source": [
    "def data_acquision(FilePath):\n",
    "    \"\"\"\n",
    "    fun: 从cwru mat文件读取加速度数据\n",
    "    param file_path: mat文件绝对路径\n",
    "    return accl_data: 加速度数据，array类型\n",
    "    \"\"\"\n",
    "    data = scio.loadmat(file_path)  # 加载mat数据\n",
    "    data_key_list = list(data.keys())  # mat文件为字典类型，获取字典所有的键并转换为list类型\n",
    "    accl_key = data_key_list[3]  # 获取'X108_DE_time'\n",
    "    accl_data = data[accl_key].flatten()  # 获取'X108_DE_time'所对应的值，即为振动加速度信号,并将二维数组展成一维数组\n",
    "    return accl_data"
   ]
  },
  {
   "cell_type": "code",
   "execution_count": 81,
   "id": "b873d8dc",
   "metadata": {},
   "outputs": [
    {
     "name": "stdout",
     "output_type": "stream",
     "text": [
      "[ 0.22269856  0.09323776 -0.14651649 ... -0.36125573  0.31138814\n",
      "  0.17055689]\n"
     ]
    },
    {
     "data": {
      "image/png": "[encoded data removed]",
      "text/plain": [
       "<Figure size 864x216 with 1 Axes>"
      ]
     },
     "metadata": {
      "needs_background": "light"
     },
     "output_type": "display_data"
    }
   ],
   "source": [
    "file_path = r'E:/研究生/pytorch/CSDN代码/fault_diagnosis_signal_processing/第4篇-包络谱/1730_12k_0.007-InnerRace.mat'\n",
    "xt = data_acquision(file_path)\n",
    "plt.figure(figsize=(12,3))\n",
    "plt.plot(xt)\n",
    "print(xt)"
   ]
  },
  {
   "cell_type": "markdown",
   "id": "3888213c",
   "metadata": {},
   "source": [
    "## 包络谱"
   ]
  },
  {
   "cell_type": "markdown",
   "id": "7f124bcf",
   "metadata": {},
   "source": [
    "### 希尔伯特黄变换"
   ]
  },
  {
   "cell_type": "markdown",
   "id": "d7e79e55",
   "metadata": {},
   "source": [
    "设$x(t)$为一个实时域信号，其Hilbert变换定义为：\n",
    "$h(t)=\\frac{1}{\\pi} \\int_{-\\infty}^{+\\infty} \\frac{x(\\tau)}{t-\\tau} \\mathrm{d} \\tau=x(t) * \\frac{1}{\\pi t}$\n",
    "则原始信号$x(t)$和它的Hilbert变换信号$h(t)$可以构建一个新的解析信号$z(t)$:\n",
    "$z(t)=x(t)+j h(t)=a(t) e^{j \\varphi t}$"
   ]
  },
  {
   "cell_type": "code",
   "execution_count": 82,
   "id": "a061a911",
   "metadata": {},
   "outputs": [
    {
     "name": "stdout",
     "output_type": "stream",
     "text": [
      "[-0.02520403 -0.28707983 -0.00610516 ...  0.1100125   0.22821944\n",
      " -0.11203138]\n"
     ]
    }
   ],
   "source": [
    "# step1: 做希尔伯特变换\n",
    "ht = fftpack.hilbert(xt)\n",
    "print(ht)"
   ]
  },
  {
   "cell_type": "markdown",
   "id": "28e1aecd",
   "metadata": {},
   "source": [
    "对$z(t)$取模，得到其幅值$a(t):$\n",
    "\n",
    "${a(t)=|z(t)|=\\sqrt{x^{2}(t)+h^{2}(t)}}$\n",
    "\n",
    "注：$a(t)$即为包络信号"
   ]
  },
  {
   "cell_type": "markdown",
   "id": "42823d28",
   "metadata": {},
   "source": [
    "### 获得包络信号"
   ]
  },
  {
   "cell_type": "code",
   "execution_count": 83,
   "id": "31c94266",
   "metadata": {},
   "outputs": [],
   "source": [
    "at = np.sqrt(ht**2+xt**2)   # at = sqrt(xt^2 + ht^2)"
   ]
  },
  {
   "cell_type": "markdown",
   "id": "a3f64fb8",
   "metadata": {},
   "source": [
    "接下来对包络信号做fft即为包络信号"
   ]
  },
  {
   "cell_type": "markdown",
   "id": "a90fda56",
   "metadata": {},
   "source": [
    "### 获得包络谱"
   ]
  },
  {
   "cell_type": "code",
   "execution_count": 84,
   "id": "b3bd8505",
   "metadata": {},
   "outputs": [],
   "source": [
    "sampling_rate = 12000\n",
    "am = np.fft.fft(at)   # 对希尔伯特变换后的at做fft变换获得幅值\n",
    "am = np.abs(am)       # 对幅值求绝对值（此时的绝对值很大）\n",
    "am = am/len(am)*2\n",
    "am = am[0: int(len(am)/2)]\n",
    "freq = np.fft.fftfreq(len(at), d=1 / sampling_rate)  # 获取fft频率，此时包括正频率和负频率\n",
    "freq = freq[0:int(len(freq)/2)]  # 获取正频率"
   ]
  },
  {
   "cell_type": "code",
   "execution_count": 85,
   "id": "f4b81cf4",
   "metadata": {},
   "outputs": [
    {
     "data": {
      "text/plain": [
       "[<matplotlib.lines.Line2D at 0x2e357281ac0>]"
      ]
     },
     "execution_count": 85,
     "metadata": {},
     "output_type": "execute_result"
    },
    {
     "data": {
      "image/png": "[encoded data removed]",
      "text/plain": [
       "<Figure size 432x288 with 1 Axes>"
      ]
     },
     "metadata": {
      "needs_background": "light"
     },
     "output_type": "display_data"
    }
   ],
   "source": [
    "plt.plot(freq, am)"
   ]
  },
  {
   "cell_type": "markdown",
   "id": "ce69ff02",
   "metadata": {},
   "source": [
    "### 去直流分量"
   ]
  },
  {
   "cell_type": "markdown",
   "id": "71ec645d",
   "metadata": {},
   "source": [
    "在0Hz的幅值比较高，使得其它频率幅值较低，不便观察。这种现象叫直流分量，去直流分量方法，y = y-mean(y)"
   ]
  },
  {
   "cell_type": "code",
   "execution_count": 86,
   "id": "5ba44914",
   "metadata": {},
   "outputs": [
    {
     "data": {
      "text/plain": [
       "[<matplotlib.lines.Line2D at 0x2e357aaed30>]"
      ]
     },
     "execution_count": 86,
     "metadata": {},
     "output_type": "execute_result"
    },
    {
     "data": {
      "image/png": "[encoded data removed]",
      "text/plain": [
       "<Figure size 432x288 with 1 Axes>"
      ]
     },
     "metadata": {
      "needs_background": "light"
     },
     "output_type": "display_data"
    }
   ],
   "source": [
    "sampling_rate = 12000\n",
    "at = at - np.mean(at)  # 去直流分量\n",
    "am = np.fft.fft(at)    # 对希尔伯特变换后的at做fft变换获得幅值\n",
    "am = np.abs(am)        # 对幅值求绝对值（此时的绝对值很大）\n",
    "am = am/len(am)*2\n",
    "am = am[0: int(len(am)/2)]\n",
    "freq = np.fft.fftfreq(len(at), d=1 / sampling_rate)  # 获取fft频率，此时包括正频率和负频率\n",
    "freq = freq[0:int(len(freq)/2)]  # 获取正频率\n",
    "plt.plot(freq, am)"
   ]
  },
  {
   "cell_type": "markdown",
   "id": "04ff2318",
   "metadata": {},
   "source": [
    "### 包络谱低频观察"
   ]
  },
  {
   "cell_type": "code",
   "execution_count": 87,
   "id": "aa3362a6",
   "metadata": {},
   "outputs": [
    {
     "data": {
      "text/plain": [
       "(0.0, 500.0)"
      ]
     },
     "execution_count": 87,
     "metadata": {},
     "output_type": "execute_result"
    },
    {
     "data": {
      "image/png": "[encoded data removed]",
      "text/plain": [
       "<Figure size 864x216 with 1 Axes>"
      ]
     },
     "metadata": {
      "needs_background": "light"
     },
     "output_type": "display_data"
    }
   ],
   "source": [
    "sampling_rate = 12000\n",
    "at = at - np.mean(at)  # 去直流分量\n",
    "am = np.fft.fft(at)    # 对希尔伯特变换后的at做fft变换获得幅值\n",
    "am = np.abs(am)        # 对幅值求绝对值（此时的绝对值很大）\n",
    "am = am/len(am)*2\n",
    "am = am[0: int(len(am)/2)]\n",
    "freq = np.fft.fftfreq(len(at), d=1 / sampling_rate)  # 获取fft频率，此时包括正频率和负频率\n",
    "freq = freq[0:int(len(freq)/2)]  # 获取正频率\n",
    "plt.figure(figsize=(12,3))\n",
    "plt.plot(freq, am)\n",
    "plt.xlim(0,500)"
   ]
  },
  {
   "cell_type": "markdown",
   "id": "de9b257b",
   "metadata": {},
   "source": [
    "## 计算故障特征频率"
   ]
  },
  {
   "attachments": {},
   "cell_type": "markdown",
   "id": "4dcd9221",
   "metadata": {},
   "source": [
    "内圈故障特征频率：$F_{\\mathrm{BPFI}}=\\frac{n f_{r}}{2}\\left(1+\\frac{d}{D} \\cos \\alpha\\right)$\n",
    "\n",
    "外圈故障特征频率：$F_{\\mathrm{BPFO}}=\\frac{n f_{r}}{2}\\left(1-\\frac{d}{D} \\cos \\alpha\\right)$\n",
    "\n",
    "滚动体故障特征频率：$F_{\\mathrm{BSF}}=\\frac{D f_{r}}{2 d}\\left[1-\\left(\\frac{d}{D} \\cos \\alpha\\right)^{2}\\right]$\n",
    "\n",
    "$n$: 滚动体个数，$f_{r}$: 轴转速 $d$: 滚珠(子)直径 $D$: 轴承节径\n",
    "\n",
    "轴承型号为：6205-2RSL JME SKF 深沟球滚珠轴承\n",
    "\n",
    "$d$=7.94mm, $D$=39.04mm, $\\alpha$=0, $n$=9"
   ]
  },
  {
   "cell_type": "markdown",
   "id": "d5fa04a3",
   "metadata": {},
   "source": [
    "### 定义一个轴承故障特征频率计算函数"
   ]
  },
  {
   "cell_type": "code",
   "execution_count": 109,
   "id": "3cac0bce",
   "metadata": {},
   "outputs": [],
   "source": [
    "def bearing_fault_freq_cal(n, d, D, alpha, fr=None):\n",
    "    '''\n",
    "    基本描述：\n",
    "        计算滚动轴承的故障特征频率\n",
    "    详细描述：\n",
    "        输入4个参数 n, fr, d, D, alpha\n",
    "    return C_bpfi, C_bpfo, C_bsf, C_ftf,  fr\n",
    "           内圈    外圈    滚针   保持架  转速\n",
    "\n",
    "    Parameters\n",
    "    ----------\n",
    "    n: integer\n",
    "        The number of roller element\n",
    "    fr: float(r/min)\n",
    "        Rotational speed\n",
    "    d: float(mm)\n",
    "        roller element diameter\n",
    "    D: float(mm)\n",
    "        pitch diameter of bearing\n",
    "    alpha: float(°)\n",
    "        contact angle\n",
    "    fr:：float(r/min)\n",
    "        rotational speed\n",
    "    Returns\n",
    "    -------\n",
    "    BPFI: float(Hz)\n",
    "        Inner race-way fault frequency\n",
    "    BPFO: float(Hz)\n",
    "        Outer race-way fault frequency\n",
    "    BSF: float(Hz)\n",
    "        Ball fault frequency\n",
    "    FTF: float(Hz)\n",
    "        Cage frequency\n",
    "    '''\n",
    "    C_bpfi = n*(1/2)*(1+d/D*np.math.cos(alpha))\n",
    "    C_bpfo = n*(1/2)*(1-(d/D)*np.math.cos(alpha))\n",
    "    C_bsf = D*(1/(2*d))*(1-np.square(d/D*np.math.cos(alpha)))\n",
    "    C_ftf = (1/2)*(1-(d/D)*np.math.cos(alpha))\n",
    "    if fr!=None:\n",
    "        return C_bpfi*fr/60, C_bpfo*fr/60, C_bsf*fr/60, C_ftf*fr/60, fr/60\n",
    "    else:\n",
    "        return C_bpfi, C_bpfo, C_bsf, C_ftf, fr"
   ]
  },
  {
   "cell_type": "code",
   "execution_count": 114,
   "id": "d8b87762",
   "metadata": {},
   "outputs": [
    {
     "name": "stdout",
     "output_type": "stream",
     "text": [
      "内圈故障特征频率 156.13870389344265\n",
      "外圈故障特征频率 103.36129610655736\n",
      "滚动体故障特征频率 67.9528924025478\n",
      "11.48458845628415\n",
      "28.833333333333332\n"
     ]
    }
   ],
   "source": [
    "bpfi, bpfo, bsf, ftf, fr = bearing_fault_freq_cal(n=9, alpha=0, d=7.94, D=39.04, fr=1730)\n",
    "print('内圈故障特征频率',bpfi)\n",
    "print('外圈故障特征频率',bpfo)\n",
    "print('滚动体故障特征频率',bsf)\n",
    "print(ftf)\n",
    "print(fr)"
   ]
  },
  {
   "cell_type": "markdown",
   "id": "ee5f72b5",
   "metadata": {},
   "source": [
    "## 理论故障特征频率与实际故障特征频率验证"
   ]
  },
  {
   "cell_type": "code",
   "execution_count": 90,
   "id": "61493b3f",
   "metadata": {},
   "outputs": [
    {
     "data": {
      "text/plain": [
       "<matplotlib.collections.LineCollection at 0x2e357b8c910>"
      ]
     },
     "execution_count": 90,
     "metadata": {},
     "output_type": "execute_result"
    },
    {
     "data": {
      "image/png": "[encoded data removed]",
      "text/plain": [
       "<Figure size 864x216 with 1 Axes>"
      ]
     },
     "metadata": {
      "needs_background": "light"
     },
     "output_type": "display_data"
    }
   ],
   "source": [
    "sampling_rate = 12000\n",
    "at = at - np.mean(at)  # 去直流分量\n",
    "am = np.fft.fft(at)    # 对希尔伯特变换后的at做fft变换获得幅值\n",
    "am = np.abs(am)        # 对幅值求绝对值（此时的绝对值很大）\n",
    "am = am/len(am)*2\n",
    "am = am[0: int(len(am)/2)]\n",
    "freq = np.fft.fftfreq(len(at), d=1 / sampling_rate)  # 获取fft频率，此时包括正频率和负频率\n",
    "freq = freq[0:int(len(freq)/2)]  # 获取正频率\n",
    "plt.figure(figsize=(12,3))\n",
    "plt.plot(freq, am)\n",
    "plt.xlim(0,500)\n",
    "plt.vlines(x=156.13, ymin=0, ymax=0.2, colors='r')  # 一倍频\n",
    "plt.vlines(x=156.13*2, ymin=0, ymax=0.2, colors='r')  # 二倍频"
   ]
  },
  {
   "cell_type": "markdown",
   "id": "160b0ce1",
   "metadata": {},
   "source": [
    "## 与fft进行对比分析"
   ]
  },
  {
   "cell_type": "code",
   "execution_count": 91,
   "id": "8e0d86be",
   "metadata": {},
   "outputs": [
    {
     "data": {
      "text/plain": [
       "[<matplotlib.lines.Line2D at 0x2e357fff190>]"
      ]
     },
     "execution_count": 91,
     "metadata": {},
     "output_type": "execute_result"
    },
    {
     "data": {
      "image/png": "[encoded data removed]",
      "text/plain": [
       "<Figure size 432x288 with 1 Axes>"
      ]
     },
     "metadata": {
      "needs_background": "light"
     },
     "output_type": "display_data"
    }
   ],
   "source": [
    "sampling_rate = 12000\n",
    "am = np.fft.fft(xt)   # 对希尔伯特变换后的at做fft变换获得幅值\n",
    "am = np.abs(am)       # 对幅值求绝对值（此时的绝对值很大）\n",
    "am = am/len(am)*2\n",
    "am = am[0: int(len(am)/2)]\n",
    "freq = np.fft.fftfreq(len(xt), d=1 / sampling_rate)  # 获取fft频率，此时包括正频率和负频率\n",
    "freq = freq[0:int(len(freq)/2)]  # 获取正频率\n",
    "plt.plot(freq, am)"
   ]
  },
  {
   "cell_type": "code",
   "execution_count": 92,
   "id": "71e48c65",
   "metadata": {},
   "outputs": [
    {
     "data": {
      "text/plain": [
       "<matplotlib.collections.LineCollection at 0x2e357b38a00>"
      ]
     },
     "execution_count": 92,
     "metadata": {},
     "output_type": "execute_result"
    },
    {
     "data": {
      "image/png": "[encoded data removed]",
      "text/plain": [
       "<Figure size 432x288 with 1 Axes>"
      ]
     },
     "metadata": {
      "needs_background": "light"
     },
     "output_type": "display_data"
    }
   ],
   "source": [
    "plt.plot(freq, am)\n",
    "plt.xlim(0, 500)\n",
    "plt.vlines(x=156.13, ymin=0, ymax=0.05, colors='r')  # 一倍频\n",
    "plt.vlines(x=156.13*2, ymin=0, ymax=0.05, colors='r')  # 二倍频"
   ]
  },
  {
   "cell_type": "markdown",
   "id": "e660dec2",
   "metadata": {},
   "source": [
    "## 封装为一个函数"
   ]
  },
  {
   "cell_type": "code",
   "execution_count": 107,
   "id": "34b2e1da",
   "metadata": {},
   "outputs": [],
   "source": [
    "def plt_envelope_spectrum(data, fs, xlim=None, vline= None):\n",
    "    '''\n",
    "    fun: 绘制包络谱图\n",
    "    param data: 输入数据，1维array\n",
    "    param fs: 采样频率\n",
    "    param xlim: 图片横坐标xlim，default = None\n",
    "    param vline: 图片垂直线，default = None\n",
    "    '''\n",
    "    #----去直流分量----#\n",
    "    data = data - np.mean(data)\n",
    "    #----做希尔伯特变换----#\n",
    "    xt = data\n",
    "    ht = fftpack.hilbert(xt)\n",
    "    at = np.sqrt(xt**2+ht**2)   # 获得解析信号at = sqrt(xt^2 + ht^2)\n",
    "    am = np.fft.fft(at)         # 对解析信号at做fft变换获得幅值\n",
    "    am = np.abs(am)             # 对幅值求绝对值（此时的绝对值很大）\n",
    "    am = am/len(am)*2\n",
    "    am = am[0: int(len(am)/2)]  # 取正频率幅值\n",
    "    freq = np.fft.fftfreq(len(at), d=1 / fs)  # 获取fft频率，此时包括正频率和负频率\n",
    "    freq = freq[0:int(len(freq)/2)]  # 获取正频率\n",
    "    plt.plot(freq, am)\n",
    "    if vline:  # 是否绘制垂直线\n",
    "        plt.vlines(x=vline, ymax=0.2, ymin=0, colors='r')  # 高度y 0-0.2，颜色红色\n",
    "    if xlim: # 图片横坐标是否设置xlim\n",
    "        plt.xlim(0, xlim)  \n",
    "    plt.xlabel('freq(Hz)')    # 横坐标标签\n",
    "    plt.ylabel('amp(m/s2)')   # 纵坐标标签"
   ]
  },
  {
   "cell_type": "markdown",
   "id": "a091324a",
   "metadata": {},
   "source": [
    "### 外圈故障数据测试"
   ]
  },
  {
   "cell_type": "code",
   "execution_count": 111,
   "id": "77400c13",
   "metadata": {},
   "outputs": [
    {
     "data": {
      "image/png": "[encoded data removed]",
      "text/plain": [
       "<Figure size 432x288 with 1 Axes>"
      ]
     },
     "metadata": {
      "needs_background": "light"
     },
     "output_type": "display_data"
    }
   ],
   "source": [
    "file_path = r'E:/研究生/pytorch/CSDN代码/fault_diagnosis_signal_processing/第4篇-包络谱/1730_12k_0.007-OuterRace3.mat'\n",
    "data = data_acquision(file_path)\n",
    "plt_envelope_spectrum(data = data, fs=12000, xlim=300, vline=bpfo)"
   ]
  },
  {
   "cell_type": "markdown",
   "id": "82b971eb",
   "metadata": {},
   "source": [
    "可见实际外圈故障特征频率比较明显"
   ]
  },
  {
   "cell_type": "markdown",
   "id": "d5b19430",
   "metadata": {},
   "source": [
    "### 滚动体故障数据测试分析"
   ]
  },
  {
   "cell_type": "code",
   "execution_count": 116,
   "id": "578c27d4",
   "metadata": {},
   "outputs": [
    {
     "data": {
      "image/png": "[encoded data removed]",
      "text/plain": [
       "<Figure size 432x288 with 1 Axes>"
      ]
     },
     "metadata": {
      "needs_background": "light"
     },
     "output_type": "display_data"
    }
   ],
   "source": [
    "file_path = r'E:/研究生/pytorch/CSDN代码/fault_diagnosis_signal_processing/第4篇-包络谱/1730_12k_0.014-Ball.mat'\n",
    "data = data_acquision(file_path)\n",
    "plt_envelope_spectrum(data = data, fs=12000, xlim=300, vline=bsf)"
   ]
  },
  {
   "cell_type": "markdown",
   "id": "b59aea27",
   "metadata": {},
   "source": [
    "可见实际滚动体故障特征频率不明显"
   ]
  }
 ],
 "metadata": {
  "kernelspec": {
   "display_name": "Python 3 (ipykernel)",
   "language": "python",
   "name": "python3"
  },
  "language_info": {
   "codemirror_mode": {
    "name": "ipython",
    "version": 3
   },
   "file_extension": ".py",
   "mimetype": "text/x-python",
   "name": "python",
   "nbconvert_exporter": "python",
   "pygments_lexer": "ipython3",
   "version": "3.8.5"
  },
  "toc": {
   "base_numbering": 1,
   "nav_menu": {},
   "number_sections": true,
   "sideBar": true,
   "skip_h1_title": false,
   "title_cell": "Table of Contents",
   "title_sidebar": "Contents",
   "toc_cell": false,
   "toc_position": {},
   "toc_section_display": true,
   "toc_window_display": false
  }
 },
 "nbformat": 4,
 "nbformat_minor": 5
}
